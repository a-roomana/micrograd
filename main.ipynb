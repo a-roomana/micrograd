{
 "cells": [
  {
   "cell_type": "code",
   "id": "initial_id",
   "metadata": {
    "editable": true,
    "slideshow": {
     "slide_type": ""
    },
    "tags": [],
    "ExecuteTime": {
     "end_time": "2024-06-04T16:10:31.521363Z",
     "start_time": "2024-06-04T16:10:29.715882Z"
    }
   },
   "source": [
    "from micrograd.draw import draw_dot\n",
    "from micrograd.engine import Value\n",
    "from micrograd.nn import NLP\n",
    "\n",
    "\n",
    "def main():\n",
    "    nn = NLP(4, [3, 3], 1)\n",
    "    x_trains = [\n",
    "        [Value(1.), Value(1.0), Value(1.0), Value(0.7)],\n",
    "        [Value(2.), Value(0.9), Value(0.7), Value(0.8)],\n",
    "        [Value(3.), Value(0.8), Value(0.6), Value(0.7)],\n",
    "        [Value(4.), Value(0.8), Value(0.6), Value(0.7)],\n",
    "        [Value(5.), Value(0.9), Value(0.7), Value(0.6)],\n",
    "    ]\n",
    "    y_trains = [\n",
    "        Value(1.0),\n",
    "        Value(0.0),\n",
    "        Value(1.0),\n",
    "        Value(1.0),\n",
    "        Value(0.0),\n",
    "    ]\n",
    "    loss = list(nn.train(x_trains, y_trains, epochs=1000))[-1]\n",
    "    return loss\n",
    "\n",
    "\n",
    "l = main()"
   ],
   "outputs": [
    {
     "name": "stderr",
     "output_type": "stream",
     "text": [
      "/home/arman/Desktop/arman/ML/micrograd/engine.py:46: RuntimeWarning: invalid value encountered in log\n",
      "  power.grad += np.log(self.data) * self.data**power.data * out.grad\n"
     ]
    },
    {
     "name": "stdout",
     "output_type": "stream",
     "text": [
      "Epoch 0 | Loss 2.8975826396589937\n",
      "Epoch 50 | Loss 1.1840534832620275\n",
      "Epoch 100 | Loss 1.175314773634651\n",
      "Epoch 150 | Loss 1.167915283951881\n",
      "Epoch 200 | Loss 1.1600195004493357\n",
      "Epoch 250 | Loss 1.1515926411705801\n",
      "Epoch 300 | Loss 1.1433495385214971\n",
      "Epoch 350 | Loss 1.1362682878643553\n",
      "Epoch 400 | Loss 1.1309495851880904\n",
      "Epoch 450 | Loss 1.127312732166387\n",
      "Epoch 500 | Loss 1.1248647157901877\n",
      "Epoch 550 | Loss 1.1230991344778845\n",
      "Epoch 600 | Loss 1.1216733712034959\n",
      "Epoch 650 | Loss 1.1204013860634536\n",
      "Epoch 700 | Loss 1.1191945525560891\n",
      "Epoch 750 | Loss 1.1180137209242793\n",
      "Epoch 800 | Loss 1.1168419860519045\n",
      "Epoch 850 | Loss 1.115671599949441\n",
      "Epoch 900 | Loss 1.1144982741440261\n",
      "Epoch 950 | Loss 1.1133188558845304\n"
     ]
    }
   ],
   "execution_count": 2
  },
  {
   "metadata": {
    "ExecuteTime": {
     "end_time": "2024-06-04T16:10:32.907777Z",
     "start_time": "2024-06-04T16:10:32.759779Z"
    }
   },
   "cell_type": "code",
   "source": "draw_dot(l).render(\"img/nlp\", cleanup=True)",
   "id": "da75bb532315a122",
   "outputs": [
    {
     "data": {
      "text/plain": [
       "'img/nlp.svg'"
      ]
     },
     "execution_count": 3,
     "metadata": {},
     "output_type": "execute_result"
    }
   ],
   "execution_count": 3
  }
 ],
 "metadata": {
  "kernelspec": {
   "display_name": "Python 3 (ipykernel)",
   "language": "python",
   "name": "python3"
  },
  "language_info": {
   "codemirror_mode": {
    "name": "ipython",
    "version": 3
   },
   "file_extension": ".py",
   "mimetype": "text/x-python",
   "name": "python",
   "nbconvert_exporter": "python",
   "pygments_lexer": "ipython3",
   "version": "3.10.12"
  }
 },
 "nbformat": 4,
 "nbformat_minor": 5
}
