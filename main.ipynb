{
 "cells": [
  {
   "cell_type": "code",
   "id": "initial_id",
   "metadata": {
    "editable": true,
    "slideshow": {
     "slide_type": ""
    },
    "tags": [],
    "ExecuteTime": {
     "end_time": "2024-06-05T16:02:46.558632Z",
     "start_time": "2024-06-05T16:02:44.018607Z"
    }
   },
   "source": [
    "from micrograd.draw import draw_dot\n",
    "from micrograd.engine import Value\n",
    "from micrograd.nn import NLP\n",
    "\n",
    "\n",
    "def main():\n",
    "    nn = NLP(4, [3, 3], 1)\n",
    "    x_trains = [\n",
    "        [Value(1.), Value(1.0), Value(1.0), Value(0.7)],\n",
    "        [Value(2.), Value(0.9), Value(0.7), Value(0.8)],\n",
    "        [Value(3.), Value(0.8), Value(0.6), Value(0.7)],\n",
    "        [Value(4.), Value(0.8), Value(0.6), Value(0.7)],\n",
    "        [Value(5.), Value(0.9), Value(0.7), Value(0.6)],\n",
    "    ]\n",
    "    y_trains = [\n",
    "        Value(1.0),\n",
    "        Value(0.0),\n",
    "        Value(1.0),\n",
    "        Value(1.0),\n",
    "        Value(0.0),\n",
    "    ]\n",
    "    loss = list(nn.train(x_trains, y_trains, epochs=1000))[-1]\n",
    "    return loss\n",
    "\n",
    "\n",
    "l = main()"
   ],
   "outputs": [
    {
     "name": "stderr",
     "output_type": "stream",
     "text": [
      "/home/arman/Desktop/arman/ML/micrograd/engine.py:60: RuntimeWarning: invalid value encountered in log\n",
      "  power.grad += np.log(self.data) * self.data**power.data * out.grad\n"
     ]
    },
    {
     "name": "stdout",
     "output_type": "stream",
     "text": [
      "Epoch 0 | Loss 1.255362981687913\n",
      "Epoch 50 | Loss 1.1422086348280929\n",
      "Epoch 100 | Loss 1.0887930421757703\n",
      "Epoch 150 | Loss 1.0316828998130363\n",
      "Epoch 200 | Loss 0.9729261987959005\n",
      "Epoch 250 | Loss 0.9043465587336985\n",
      "Epoch 300 | Loss 0.8168729340137003\n",
      "Epoch 350 | Loss 0.7094097504559687\n",
      "Epoch 400 | Loss 0.5886697102003454\n",
      "Epoch 450 | Loss 0.4630614905124356\n",
      "Epoch 500 | Loss 0.34346981737498483\n",
      "Epoch 550 | Loss 0.24356715639260063\n",
      "Epoch 600 | Loss 0.17044113707307387\n",
      "Epoch 650 | Loss 0.2958629799685093\n",
      "Epoch 700 | Loss 0.20055033177695653\n",
      "Epoch 750 | Loss 0.160940512361194\n",
      "Epoch 800 | Loss 0.13090004805568334\n",
      "Epoch 850 | Loss 0.10699241948133334\n",
      "Epoch 900 | Loss 0.08869448934372212\n",
      "Epoch 950 | Loss 0.07485905861411767\n"
     ]
    }
   ],
   "execution_count": 1
  },
  {
   "metadata": {
    "ExecuteTime": {
     "end_time": "2024-06-05T16:02:54.429088Z",
     "start_time": "2024-06-05T16:02:54.199053Z"
    }
   },
   "cell_type": "code",
   "source": "draw_dot(l).render(\"img/nlp\", cleanup=True)",
   "id": "da75bb532315a122",
   "outputs": [
    {
     "data": {
      "text/plain": [
       "'img/nlp.svg'"
      ]
     },
     "execution_count": 2,
     "metadata": {},
     "output_type": "execute_result"
    }
   ],
   "execution_count": 2
  }
 ],
 "metadata": {
  "kernelspec": {
   "display_name": "Python 3 (ipykernel)",
   "language": "python",
   "name": "python3"
  },
  "language_info": {
   "codemirror_mode": {
    "name": "ipython",
    "version": 3
   },
   "file_extension": ".py",
   "mimetype": "text/x-python",
   "name": "python",
   "nbconvert_exporter": "python",
   "pygments_lexer": "ipython3",
   "version": "3.10.12"
  }
 },
 "nbformat": 4,
 "nbformat_minor": 5
}
